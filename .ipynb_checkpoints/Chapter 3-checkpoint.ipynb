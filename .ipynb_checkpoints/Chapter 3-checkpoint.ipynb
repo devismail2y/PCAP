{
 "cells": [
  {
   "cell_type": "markdown",
   "metadata": {},
   "source": [
    "# Chapter 3"
   ]
  },
  {
   "cell_type": "markdown",
   "metadata": {},
   "source": [
    "##  3.1.1.5 LAB: Questions and answers"
   ]
  },
  {
   "cell_type": "code",
   "execution_count": 5,
   "metadata": {},
   "outputs": [
    {
     "name": "stdout",
     "output_type": "stream",
     "text": [
      "Masukkan nilai a: 55\n",
      "False\n"
     ]
    }
   ],
   "source": [
    "a = int (input (\"Masukkan nilai a: \"))\n",
    "b = a >= 100\n",
    "\n",
    "print (b)"
   ]
  },
  {
   "cell_type": "markdown",
   "metadata": {},
   "source": [
    "## 3.1.1.11 LAB: Comparison operators and conditional execution\n",
    "\n",
    "### <font color = green > Objectives </font>\n",
    "    - becoming familiar with the the input() function\n",
    "    - becoming familiar with comparison operators in Python\n",
    "    - becoming familiar with the concept of conditional execution\n"
   ]
  },
  {
   "cell_type": "code",
   "execution_count": 16,
   "metadata": {},
   "outputs": [
    {
     "name": "stdout",
     "output_type": "stream",
     "text": [
      "What is the best plant? Bonsai\n",
      "Spathiphyllum! Not, Bonsai!\n"
     ]
    }
   ],
   "source": [
    "bestPlant = input (\"What is the best plant? \")\n",
    "\n",
    "if bestPlant == \"Spathiphyllum\" :\n",
    "    print (\"Yes - Spathiphyllum is the best plant ever!\")\n",
    "\n",
    "elif bestPlant == \"spathiphyllum\" :\n",
    "    print (\"No, I want a big Spathiphyllum!\")\n",
    "    \n",
    "else :\n",
    "    print (\"Spathiphyllum! Not,\", bestPlant+ \"!\")"
   ]
  },
  {
   "cell_type": "markdown",
   "metadata": {},
   "source": [
    "##  3.1.1.12 LAB: Essentials of the if-else statement\n",
    "\n",
    "### <font color = green > Objectives </font>\n",
    "\n",
    "    - using the if-else instruction to branch the control path\n",
    "    - building a complete program that solves simple real-life problems\n",
    "\n"
   ]
  },
  {
   "cell_type": "code",
   "execution_count": 34,
   "metadata": {},
   "outputs": [
    {
     "name": "stdout",
     "output_type": "stream",
     "text": [
      "Enter the annual income: -100\n",
      "The tax is: 0 thalers\n"
     ]
    }
   ],
   "source": [
    "income = float(input(\"Enter the annual income: \"))\n",
    "\n",
    "if income <= 85528 : # Put your code here.\n",
    "    tax = 0.18 * income - 556.2\n",
    "    if tax < 0 :\n",
    "        tax = 0\n",
    "\n",
    "else :\n",
    "    tax = 14839.2 + 0.32 * (income - 85528)\n",
    "\n",
    "\n",
    "tax = round(tax, 0)\n",
    "print(\"The tax is:\", tax, \"thalers\")"
   ]
  },
  {
   "cell_type": "markdown",
   "metadata": {},
   "source": [
    "## 3.1.1.13 LAB: Essentials of the if-elif-else statement\n",
    "\n",
    "### <font color = green > Objectives </font>\n",
    "Familiarize the student with:\n",
    "    - using the if-elif-else statement;\n",
    "    - finding the proper implementation of verbally defined rules;\n",
    "    - testing code using sample input and output.\n",
    "\n",
    "\n",
    "\n",
    "\n"
   ]
  },
  {
   "cell_type": "code",
   "execution_count": 33,
   "metadata": {},
   "outputs": [
    {
     "name": "stdout",
     "output_type": "stream",
     "text": [
      "Enter a year: 1999\n",
      "Common year\n"
     ]
    }
   ],
   "source": [
    "year = int(input(\"Enter a year: \"))\n",
    "\n",
    "if year < 1582 : # Put your code here.\n",
    "    print (\"Not within the Gregorian calendar period\")\n",
    "\n",
    "elif year % 4 != 0 :\n",
    "    print (\"Common year\")\n",
    "\n",
    "else :\n",
    "    print (\"Leap year\")"
   ]
  },
  {
   "cell_type": "markdown",
   "metadata": {},
   "source": [
    "## 3.1.2.3 LAB: Essentials of the while loop - Guess the secret number\n",
    "\n",
    "### <font color = green > Objectives </font>\n",
    "Familiarize the student with:\n",
    "    - using the while loop;\n",
    "    - reflecting real-life situations in computer code.\n",
    "\n"
   ]
  },
  {
   "cell_type": "code",
   "execution_count": 39,
   "metadata": {},
   "outputs": [
    {
     "name": "stdout",
     "output_type": "stream",
     "text": [
      "\n",
      "+================================+\n",
      "| Welcome to my game, muggle!    |\n",
      "| Enter an integer number        |\n",
      "| and guess what number I've     |\n",
      "| picked for you.                |\n",
      "| So, what is the secret number? |\n",
      "+================================+\n",
      "\n",
      "Guess the secret number! 134\n",
      "Ha ha! You're stuck in my loop!\n",
      "Guess the secret number! 155\n",
      "Ha ha! You're stuck in my loop!\n",
      "Guess the secret number! 777\n",
      "Well done, muggle! You are free now.\n"
     ]
    }
   ],
   "source": [
    "secret_number = 777\n",
    "\n",
    "print(\n",
    "\"\"\"\n",
    "+================================+\n",
    "| Welcome to my game, muggle!    |\n",
    "| Enter an integer number        |\n",
    "| and guess what number I've     |\n",
    "| picked for you.                |\n",
    "| So, what is the secret number? |\n",
    "+================================+\n",
    "\"\"\")\n",
    "input_number = int(input(\"Guess the secret number! \"))\n",
    "\n",
    "while input_number != secret_number :\n",
    "    print (\"Ha ha! You're stuck in my loop!\")\n",
    "    input_number = int(input(\"Guess the secret number! \"))\n",
    "\n",
    "print (\"Well done, muggle! You are free now.\")\n",
    "    "
   ]
  },
  {
   "cell_type": "markdown",
   "metadata": {},
   "source": [
    "## 3.1.2.6 LAB: Essentials of the for loop - counting mississippily\n",
    "\n",
    "### <font color = green > Objectives </font>\n",
    "Familiarize the student with:\n",
    "    - using the for loop;\n",
    "    - reflecting real-life situations in computer code.\n"
   ]
  },
  {
   "cell_type": "code",
   "execution_count": 7,
   "metadata": {},
   "outputs": [
    {
     "name": "stdout",
     "output_type": "stream",
     "text": [
      "1 Mississipi\n",
      "2 Mississipi\n",
      "3 Mississipi\n",
      "4 Mississipi\n",
      "5 Mississipi\n",
      "Ready or not, here I come!\n"
     ]
    }
   ],
   "source": [
    "import time\n",
    "\n",
    "for i in range (1,6) : # Write a for loop that counts to five\n",
    "    print (i, \"Mississipi\") # Body of the loop - print the loop iteration number and the word \"Mississippi\".\n",
    "    time.sleep(1) # Body of the loop - use: time.sleep(1)\n",
    "\n",
    "print (\"Ready or not, here I come!\")# Write a print function with the final message."
   ]
  },
  {
   "cell_type": "markdown",
   "metadata": {},
   "source": [
    "## 3.1.2.9 LAB: The break statement - Stuck in a loop\n",
    "\n",
    "### <font color = green > Objectives </font>\n",
    "Familiarize the student with:\n",
    "    - using the break statement in loops;\n",
    "    - reflecting real-life situations in computer code.\n"
   ]
  },
  {
   "cell_type": "code",
   "execution_count": 8,
   "metadata": {},
   "outputs": [
    {
     "name": "stdout",
     "output_type": "stream",
     "text": [
      "What is our secret word? alakazam\n",
      "WRONG!\n",
      "What is our secret word? chupacabra\n",
      "You've successfully left the loop.\n"
     ]
    }
   ],
   "source": [
    "secretWord = \"chupacabra\"\n",
    "inputWord = input (\"What is our secret word? \") \n",
    "\n",
    "while True :\n",
    "    if inputWord == secretWord :\n",
    "        break\n",
    "    print (\"WRONG!\")\n",
    "    inputWord = input (\"What is our secret word? \") \n",
    "    \n",
    "print (\"You've successfully left the loop.\")"
   ]
  },
  {
   "cell_type": "markdown",
   "metadata": {},
   "source": [
    "##  3.1.2.10 LAB: The continue statement - the Ugly Vowel Eater\n",
    "\n",
    "### <font color = green > Objectives </font>\n",
    "Familiarize the student with:\n",
    "    - using the continue statement in loops;\n",
    "    - reflecting real-life situations in computer code.\n",
    "\n",
    "    "
   ]
  },
  {
   "cell_type": "code",
   "execution_count": 7,
   "metadata": {},
   "outputs": [
    {
     "name": "stdout",
     "output_type": "stream",
     "text": [
      "Masukkan sebuah kata = Gregory\n",
      "G\n",
      "R\n",
      "G\n",
      "R\n",
      "Y\n"
     ]
    }
   ],
   "source": [
    "# Prompt the user to enter a word\n",
    "# and assign it to the userWord variable.\n",
    "userWord = input(\"Masukkan sebuah kata = \")\n",
    "userWord = userWord.upper()\n",
    "\n",
    "for letter in userWord:\n",
    "    if letter in ['A','I','U','E','O']:\n",
    "        continue\n",
    "    \n",
    "    print(letter)"
   ]
  },
  {
   "cell_type": "markdown",
   "metadata": {},
   "source": [
    "## 3.1.2.11 LAB: The continue statement - the Pretty Vowel Eater\n",
    "\n",
    "### <font color = green > Objectives </font>\n",
    "Familiarize the student with:\n",
    "    - using the continue statement in loops;\n",
    "    - modifying and upgrading the existing code;\n",
    "    - reflecting real-life situations in computer code.\n",
    "\n"
   ]
  },
  {
   "cell_type": "code",
   "execution_count": 16,
   "metadata": {},
   "outputs": [
    {
     "name": "stdout",
     "output_type": "stream",
     "text": [
      "Masukkan sebuah kata = Gregory\n",
      "GRGRY\n"
     ]
    }
   ],
   "source": [
    "wordWithoutVovels = \"\"\n",
    "\n",
    "# Prompt the user to enter a word\n",
    "# and assign it to the userWord variable\n",
    "userWord = input (\"Masukkan sebuah kata = \")\n",
    "userWord = userWord.upper()\n",
    "\n",
    "for letter in userWord:\n",
    "    if letter in ['A','I','U','E','O']:\n",
    "        continue\n",
    "    # Complete the body of the loop.\n",
    "    wordWithoutVovels += letter\n",
    "\n",
    "print (wordWithoutVovels) # Print the word assigned to wordWithoutVowels."
   ]
  },
  {
   "cell_type": "markdown",
   "metadata": {},
   "source": [
    "## 3.1.2.14 LAB: Essentials of the while loop\n",
    "### <font color = green > Objectives </font>\n",
    "Familiarize the student with:\n",
    "    - using the while loop;\n",
    "    - finding the proper implementation of verbally defined rules;\n",
    "    - reflecting real-life situations in computer code.\n"
   ]
  },
  {
   "cell_type": "code",
   "execution_count": 30,
   "metadata": {},
   "outputs": [
    {
     "name": "stdout",
     "output_type": "stream",
     "text": [
      "Enter the number of blocks: 1000\n",
      "The height of the pyramid: 44\n"
     ]
    }
   ],
   "source": [
    "blocks = int(input(\"Enter the number of blocks: \"))\n",
    "blocksReq = 1\n",
    "height = 0\n",
    "\n",
    "#\n",
    "# Write your code here.\n",
    "#\t\n",
    "while True:\n",
    "    if blocks // blocksReq >= 1 :\n",
    "        blocks -= blocksReq\n",
    "        blocksReq += 1\n",
    "        height += 1\n",
    "    else :\n",
    "        break\n",
    "\n",
    "print(\"The height of the pyramid:\", height)"
   ]
  },
  {
   "cell_type": "markdown",
   "metadata": {},
   "source": [
    "## 3.1.2.15 LAB: Collatz's hypothesis\n",
    " \n",
    "### <font color = green > Objectives </font>\n",
    "Familiarize the student with:\n",
    "    - using the while loop;\n",
    "    - converting verbally defined loops into actual Python code.\n"
   ]
  },
  {
   "cell_type": "code",
   "execution_count": 41,
   "metadata": {},
   "outputs": [
    {
     "name": "stdout",
     "output_type": "stream",
     "text": [
      "Masukkan integer positif: 15\n",
      "46\n",
      "23\n",
      "70\n",
      "35\n",
      "106\n",
      "53\n",
      "160\n",
      "80\n",
      "40\n",
      "20\n",
      "10\n",
      "5\n",
      "16\n",
      "8\n",
      "4\n",
      "2\n",
      "1\n",
      "Total steps: 17\n"
     ]
    }
   ],
   "source": [
    "c0 = int(input(\"Masukkan integer positif: \"))\n",
    "steps = 0\n",
    "\n",
    "while c0 != 1:\n",
    "    if c0 % 2 == 0:\n",
    "        c0 /= 2\n",
    "    else :\n",
    "        c0 = c0 * 3 + 1    \n",
    "    steps += 1\n",
    "    print (int(c0))\n",
    "    \n",
    "print (\"Total steps:\", steps)"
   ]
  },
  {
   "cell_type": "markdown",
   "metadata": {},
   "source": [
    "## 3.1.2.16 SECTION SUMMARY (1/2) "
   ]
  },
  {
   "cell_type": "code",
   "execution_count": 1,
   "metadata": {},
   "outputs": [
    {
     "name": "stdout",
     "output_type": "stream",
     "text": [
      "5\n",
      "4\n",
      "3\n"
     ]
    }
   ],
   "source": [
    "# Example 2\n",
    "counter = 5\n",
    "while counter > 2:\n",
    "    print(counter)\n",
    "    counter -= 1"
   ]
  },
  {
   "cell_type": "code",
   "execution_count": 2,
   "metadata": {},
   "outputs": [
    {
     "name": "stdout",
     "output_type": "stream",
     "text": [
      "P*y*t*h*o*n*"
     ]
    }
   ],
   "source": [
    "word = \"Python\"\n",
    "for letter in word:\n",
    "    print(letter, end=\"*\")"
   ]
  },
  {
   "cell_type": "code",
   "execution_count": 3,
   "metadata": {
    "scrolled": false
   },
   "outputs": [
    {
     "name": "stdout",
     "output_type": "stream",
     "text": [
      "2\n",
      "4\n",
      "6\n",
      "8\n"
     ]
    }
   ],
   "source": [
    "for i in range(1, 10):\n",
    "    if i % 2 == 0:\n",
    "        print(i)"
   ]
  },
  {
   "cell_type": "markdown",
   "metadata": {},
   "source": [
    "#### Break\n",
    "Ask it yourself v"
   ]
  },
  {
   "cell_type": "code",
   "execution_count": 5,
   "metadata": {},
   "outputs": [
    {
     "name": "stdout",
     "output_type": "stream",
     "text": [
      "O\n",
      "p\n",
      "e\n",
      "n\n",
      "E\n",
      "D\n",
      "G\n",
      " \n"
     ]
    }
   ],
   "source": [
    "text = \"OpenEDG Python Institute\"\n",
    "for letter in text:\n",
    "    if letter == \"P\":\n",
    "        break\n",
    "    print(letter) #end=\"\")"
   ]
  },
  {
   "cell_type": "code",
   "execution_count": 6,
   "metadata": {},
   "outputs": [
    {
     "name": "stdout",
     "output_type": "stream",
     "text": [
      "OpenEDG "
     ]
    }
   ],
   "source": [
    "text = \"OpenEDG Python Institute\"\n",
    "for letter in text:\n",
    "    if letter == \"P\":\n",
    "        break\n",
    "    print(letter, end=\"\")"
   ]
  },
  {
   "cell_type": "markdown",
   "metadata": {},
   "source": [
    "#### Continue"
   ]
  },
  {
   "cell_type": "code",
   "execution_count": 8,
   "metadata": {},
   "outputs": [
    {
     "name": "stdout",
     "output_type": "stream",
     "text": [
      "pypypy"
     ]
    }
   ],
   "source": [
    "text = \"pyxpyxpyx\"\n",
    "for letter in text:\n",
    "    if letter == \"x\":\n",
    "        continue\n",
    "    print(letter, end=\"\")"
   ]
  },
  {
   "cell_type": "code",
   "execution_count": 10,
   "metadata": {},
   "outputs": [
    {
     "name": "stdout",
     "output_type": "stream",
     "text": [
      "0\n",
      "1\n",
      "2\n",
      "3 else\n",
      "\n",
      "0\n",
      "1\n",
      "2\n",
      "2 else\n"
     ]
    }
   ],
   "source": [
    "n = 0\n",
    "\n",
    "while n != 3:\n",
    "    print(n)\n",
    "    n += 1\n",
    "else:\n",
    "    print(n, \"else\")\n",
    "\n",
    "print()\n",
    "\n",
    "for i in range(0, 3):\n",
    "    print(i)\n",
    "else:\n",
    "    print(i, \"else\")"
   ]
  },
  {
   "cell_type": "code",
   "execution_count": 11,
   "metadata": {},
   "outputs": [
    {
     "name": "stdout",
     "output_type": "stream",
     "text": [
      "0 1 2 6 4 2 "
     ]
    }
   ],
   "source": [
    "for i in range(3):\n",
    "    print(i, end=\" \") # outputs: 0 1 2\n",
    "\n",
    "for i in range(6, 1, -2):\n",
    "    print(i, end=\" \") # outputs: 6, 4, 2"
   ]
  },
  {
   "cell_type": "markdown",
   "metadata": {},
   "source": [
    "## 3.1.2.17 SECTION SUMMARY (2/2)\n"
   ]
  },
  {
   "cell_type": "markdown",
   "metadata": {},
   "source": [
    "### Exercise 1\n",
    "Create a for loop that counts from 0 to 10, and prints odd numbers to the screen. Use the skeleton below:"
   ]
  },
  {
   "cell_type": "code",
   "execution_count": 12,
   "metadata": {},
   "outputs": [
    {
     "name": "stdout",
     "output_type": "stream",
     "text": [
      "1\n",
      "3\n",
      "5\n",
      "7\n",
      "9\n"
     ]
    }
   ],
   "source": [
    "for i in range(1, 11):\n",
    "   if i % 2 == 1 :\n",
    "    print (i)"
   ]
  },
  {
   "cell_type": "markdown",
   "metadata": {},
   "source": [
    "### Exercise 2\n",
    "\n",
    "Create a while loop that counts from 0 to 10, and prints odd numbers to the screen. Use the skeleton below:"
   ]
  },
  {
   "cell_type": "code",
   "execution_count": 16,
   "metadata": {},
   "outputs": [
    {
     "name": "stdout",
     "output_type": "stream",
     "text": [
      "1\n",
      "3\n",
      "5\n",
      "7\n",
      "9\n"
     ]
    }
   ],
   "source": [
    "x = 1\n",
    "while x < 11:\n",
    "    if x % 2 == 1:\n",
    "        print (x)\n",
    "    x += 1"
   ]
  },
  {
   "cell_type": "markdown",
   "metadata": {},
   "source": [
    "### Exercise 3\n",
    "\n",
    "Create a program with a for loop and a break statement. The program should iterate over characters in an email address, exit the loop when it reaches the @ symbol, and print the part before @ on one line. Use the skeleton below:"
   ]
  },
  {
   "cell_type": "code",
   "execution_count": 17,
   "metadata": {},
   "outputs": [
    {
     "name": "stdout",
     "output_type": "stream",
     "text": [
      "john.smith"
     ]
    }
   ],
   "source": [
    "for ch in \"john.smith@pythoninstitute.org\":\n",
    "    if ch == \"@\":\n",
    "        break\n",
    "    print (ch, end=\"\")"
   ]
  },
  {
   "cell_type": "markdown",
   "metadata": {},
   "source": [
    "### Exercise 4\n",
    "\n",
    "Create a program with a for loop and a continue statement. The program should iterate over a string of digits, replace each 0 with x, and print the modified string to the screen. Use the skeleton below:"
   ]
  },
  {
   "cell_type": "code",
   "execution_count": 20,
   "metadata": {},
   "outputs": [
    {
     "name": "stdout",
     "output_type": "stream",
     "text": [
      "x165x318x651x"
     ]
    }
   ],
   "source": [
    "for digit in \"0165031806510\":\n",
    "    if digit == \"0\":\n",
    "        print (\"x\",end=\"\") # line of code\n",
    "        continue # line of code\n",
    "    print (digit,end=\"\") # line of code"
   ]
  },
  {
   "cell_type": "code",
   "execution_count": null,
   "metadata": {},
   "outputs": [],
   "source": []
  },
  {
   "cell_type": "code",
   "execution_count": 27,
   "metadata": {},
   "outputs": [
    {
     "name": "stdout",
     "output_type": "stream",
     "text": [
      "4\n",
      "3\n",
      "2\n",
      "0\n"
     ]
    }
   ],
   "source": [
    "n = 3\n",
    "\n",
    "while n > 0:\n",
    "    print(n + 1)\n",
    "    n -= 1\n",
    "else:\n",
    "    print(n)"
   ]
  },
  {
   "cell_type": "code",
   "execution_count": 29,
   "metadata": {},
   "outputs": [
    {
     "name": "stdout",
     "output_type": "stream",
     "text": [
      "-1\n",
      "0\n",
      "1\n",
      "2\n",
      "else 3\n"
     ]
    }
   ],
   "source": [
    "n = range(4)\n",
    "\n",
    "for num in n:\n",
    "    print(num - 1)\n",
    "else:\n",
    "    print(\"else\", num)"
   ]
  },
  {
   "cell_type": "code",
   "execution_count": null,
   "metadata": {},
   "outputs": [],
   "source": []
  },
  {
   "cell_type": "code",
   "execution_count": 1,
   "metadata": {},
   "outputs": [
    {
     "name": "stdout",
     "output_type": "stream",
     "text": [
      "0\n",
      "3\n"
     ]
    }
   ],
   "source": [
    "for i in range(0, 6, 3):\n",
    "    print(i)"
   ]
  },
  {
   "cell_type": "code",
   "execution_count": null,
   "metadata": {},
   "outputs": [],
   "source": []
  },
  {
   "cell_type": "code",
   "execution_count": 11,
   "metadata": {},
   "outputs": [
    {
     "name": "stdout",
     "output_type": "stream",
     "text": [
      "15\n",
      "6\n"
     ]
    }
   ],
   "source": [
    "i = 22\n",
    "j = 15\n",
    "log = i and j\n",
    "print (log)\n",
    "print (i & j)"
   ]
  },
  {
   "cell_type": "markdown",
   "metadata": {},
   "source": [
    " ## 3.1.3.6 SECTION SUMMARY\n",
    "\n",
    "### Exercise 1"
   ]
  },
  {
   "cell_type": "code",
   "execution_count": 1,
   "metadata": {},
   "outputs": [
    {
     "name": "stdout",
     "output_type": "stream",
     "text": [
      "-8\n"
     ]
    }
   ],
   "source": [
    "x = 7\n",
    "print (~x)"
   ]
  },
  {
   "cell_type": "markdown",
   "metadata": {},
   "source": [
    "~x = -x-1 (always)"
   ]
  },
  {
   "cell_type": "markdown",
   "metadata": {},
   "source": [
    "## 3.1.4.6 LAB: The basics of lists"
   ]
  },
  {
   "cell_type": "code",
   "execution_count": 3,
   "metadata": {},
   "outputs": [
    {
     "name": "stdout",
     "output_type": "stream",
     "text": [
      "Masukkan angka tengah hatlist: 40\n",
      "Panjang List: 4\n",
      "[1, 2, 40, 4]\n"
     ]
    }
   ],
   "source": [
    "hatList = [1, 2, 3, 4, 5]  # This is an existing list of numbers hidden in the hat.\n",
    "\n",
    "hatList [2] = int (input (\"Masukkan angka tengah hatlist: \"))\n",
    "del hatList [4]\n",
    "print (\"Panjang List:\", len(hatList))\n",
    "\n",
    "print(hatList)"
   ]
  },
  {
   "cell_type": "markdown",
   "metadata": {},
   "source": [
    "##  3.1.4.13 LAB: The basics of lists - the Beatles \n",
    "\n",
    "Write a program that reflects these changes and lets you practice with the concept of lists. Your task is to:\n",
    "\n",
    "- step 1: create an empty list named beatles;\n",
    "\n",
    "- step 2: use the append() method to add the following members of the band to the list: John Lennon, Paul McCartney, and George Harrison;\n",
    "\n",
    "- step 3: use the for loop and the append() method to prompt the user to add the following members of the band to the list: Stu Sutcliffe, and Pete Best;\n",
    "\n",
    "- step 4: use the del instruction to remove Stu Sutcliffe and Pete Best from the list;\n",
    "\n",
    "- step 5: use the insert() method to add Ringo Starr to the beginning of the list.\n"
   ]
  },
  {
   "cell_type": "code",
   "execution_count": 14,
   "metadata": {},
   "outputs": [
    {
     "name": "stdout",
     "output_type": "stream",
     "text": [
      "Step 1: []\n",
      "Step 2: ['John Lennon', 'Paul McCartney', 'George Harrison']\n",
      "Masukkan nama anggota lain: a\n",
      "Masukkan nama anggota lain: b\n",
      "Step 3: ['John Lennon', 'Paul McCartney', 'George Harrison', 'a', 'b']\n",
      "Step 4: ['John Lennon', 'Paul McCartney', 'George Harrison']\n",
      "Step 5: ['Ringo Starr', 'John Lennon', 'Paul McCartney', 'George Harrison']\n",
      "The Fab 4\n"
     ]
    }
   ],
   "source": [
    "beatles = []# step 1\n",
    "print(\"Step 1:\", beatles)\n",
    "\n",
    "beatles.append (\"John Lennon\")\n",
    "beatles.append (\"Paul McCartney\")\n",
    "beatles.append (\"George Harrison\")\n",
    "print(\"Step 2:\", beatles)\n",
    "\n",
    "for i in range (2): \n",
    "     beatles.append(input(\"Masukkan nama anggota lain: \")) #Stu Sutcliffe dan Pete Best\n",
    "print(\"Step 3:\", beatles)\n",
    "\n",
    "del beatles [4]\n",
    "del beatles [3]\n",
    "print(\"Step 4:\", beatles)\n",
    "\n",
    "beatles.insert(0, \"Ringo Starr\")\n",
    "print(\"Step 5:\", beatles)\n",
    "\n",
    "\n",
    "# testing list legth\n",
    "print(\"The Fab\", len(beatles))"
   ]
  },
  {
   "cell_type": "markdown",
   "metadata": {},
   "source": [
    " ## 3.1.5.2 Sorting simple lists - the bubble sort algorithm "
   ]
  },
  {
   "cell_type": "markdown",
   "metadata": {},
   "source": [
    "### The Adjacent Number Swap"
   ]
  },
  {
   "cell_type": "code",
   "execution_count": 18,
   "metadata": {},
   "outputs": [
    {
     "name": "stdout",
     "output_type": "stream",
     "text": [
      "[8, 6, 2, 4, 10]\n"
     ]
    }
   ],
   "source": [
    "myList = [8, 10, 6, 2, 4] # list to sort\n",
    "\n",
    "for i in range(len(myList) - 1): # we need (5 - 1) comparisons\n",
    "    if myList[i] > myList[i + 1]: # compare adjacent elements\n",
    "        myList[i], myList[i + 1] = myList[i + 1], myList[i] # if we end up here it means that we have to swap the elements\n",
    "print (myList)"
   ]
  },
  {
   "cell_type": "markdown",
   "metadata": {},
   "source": [
    "### The Bubble Sort"
   ]
  },
  {
   "cell_type": "code",
   "execution_count": 22,
   "metadata": {},
   "outputs": [
    {
     "name": "stdout",
     "output_type": "stream",
     "text": [
      "[2, 4, 6, 8, 10]\n"
     ]
    }
   ],
   "source": [
    "myList = [8, 10, 6, 2, 4] # list to sort\n",
    "swapped = True # it's a little fake - we need it to enter the while loop\n",
    "\n",
    "while swapped:\n",
    "    swapped = False # no swaps so far\n",
    "    for i in range(len(myList) - 1):\n",
    "        if myList[i] > myList[i + 1]:\n",
    "            swapped = True # swap occured!\n",
    "            myList[i], myList[i + 1] = myList[i + 1], myList[i]\n",
    "print(myList)"
   ]
  },
  {
   "cell_type": "markdown",
   "metadata": {},
   "source": [
    "### The Bubble Sort - Understanding the Process"
   ]
  },
  {
   "cell_type": "code",
   "execution_count": 20,
   "metadata": {},
   "outputs": [
    {
     "name": "stdout",
     "output_type": "stream",
     "text": [
      "[8, 10, 6, 2, 4]\n",
      "[8, 6, 10, 2, 4]\n",
      "[8, 6, 2, 10, 4]\n",
      "[8, 6, 2, 4, 10]\n",
      "[6, 8, 2, 4, 10]\n",
      "[6, 2, 8, 4, 10]\n",
      "[6, 2, 4, 8, 10]\n",
      "[6, 2, 4, 8, 10]\n",
      "[2, 6, 4, 8, 10]\n",
      "[2, 4, 6, 8, 10]\n",
      "[2, 4, 6, 8, 10]\n",
      "[2, 4, 6, 8, 10]\n",
      "[2, 4, 6, 8, 10]\n",
      "[2, 4, 6, 8, 10]\n",
      "[2, 4, 6, 8, 10]\n",
      "[2, 4, 6, 8, 10]\n"
     ]
    }
   ],
   "source": [
    "myList = [8, 10, 6, 2, 4] # list to sort\n",
    "swapped = True # it's a little fake - we need it to enter the while loop\n",
    "\n",
    "while swapped:\n",
    "    swapped = False # no swaps so far\n",
    "    for i in range(len(myList) - 1):\n",
    "        if myList[i] > myList[i + 1]:\n",
    "            swapped = True # swap occured!\n",
    "            myList[i], myList[i + 1] = myList[i + 1], myList[i]\n",
    "        print(myList)"
   ]
  },
  {
   "cell_type": "code",
   "execution_count": 21,
   "metadata": {},
   "outputs": [
    {
     "name": "stdout",
     "output_type": "stream",
     "text": [
      "[8, 6, 2, 4, 10]\n",
      "[6, 2, 4, 8, 10]\n",
      "[2, 4, 6, 8, 10]\n",
      "[2, 4, 6, 8, 10]\n"
     ]
    }
   ],
   "source": [
    "myList = [8, 10, 6, 2, 4] # list to sort\n",
    "swapped = True # it's a little fake - we need it to enter the while loop\n",
    "\n",
    "while swapped:\n",
    "    swapped = False # no swaps so far\n",
    "    for i in range(len(myList) - 1):\n",
    "        if myList[i] > myList[i + 1]:\n",
    "            swapped = True # swap occured!\n",
    "            myList[i], myList[i + 1] = myList[i + 1], myList[i]\n",
    "    print(myList)"
   ]
  },
  {
   "cell_type": "markdown",
   "metadata": {},
   "source": [
    "##  3.1.5.3 Sorting simple lists - the bubble sort algorithm"
   ]
  },
  {
   "cell_type": "code",
   "execution_count": 24,
   "metadata": {},
   "outputs": [
    {
     "name": "stdout",
     "output_type": "stream",
     "text": [
      "How many elements do you want to sort: 5\n",
      "Enter a list element: 3\n",
      "Enter a list element: 19\n",
      "Enter a list element: 15\n",
      "Enter a list element: 10\n",
      "Enter a list element: 2\n",
      "\n",
      "Sorted:\n",
      "[2.0, 3.0, 10.0, 15.0, 19.0]\n"
     ]
    }
   ],
   "source": [
    "myList = []\n",
    "swapped = True\n",
    "num = int(input(\"How many elements do you want to sort: \"))\n",
    "\n",
    "for i in range(num):\n",
    "    val = float(input(\"Enter a list element: \"))\n",
    "    myList.append(val)\n",
    "\n",
    "while swapped:\n",
    "    swapped = False\n",
    "    for i in range(len(myList) - 1):\n",
    "        if myList[i] > myList[i + 1]:\n",
    "            swapped = True\n",
    "            myList[i], myList[i + 1] = myList[i + 1], myList[i]\n",
    "\n",
    "print(\"\\nSorted:\")\n",
    "print(myList)"
   ]
  },
  {
   "cell_type": "markdown",
   "metadata": {},
   "source": [
    "## 3.1.5.4 SECTION SUMMARY"
   ]
  },
  {
   "cell_type": "markdown",
   "metadata": {},
   "source": [
    "### Exercise 1"
   ]
  },
  {
   "cell_type": "code",
   "execution_count": 26,
   "metadata": {},
   "outputs": [
    {
     "name": "stdout",
     "output_type": "stream",
     "text": [
      "['A', 'D', 'F', 'Z']\n"
     ]
    }
   ],
   "source": [
    "lst = [\"D\", \"F\", \"A\", \"Z\"]\n",
    "lst.sort()\n",
    "\n",
    "print(lst)"
   ]
  },
  {
   "cell_type": "markdown",
   "metadata": {},
   "source": [
    "### Exercise 2"
   ]
  },
  {
   "cell_type": "code",
   "execution_count": 27,
   "metadata": {},
   "outputs": [
    {
     "name": "stdout",
     "output_type": "stream",
     "text": [
      "[1, 2, 3]\n"
     ]
    }
   ],
   "source": [
    "a = 3\n",
    "b = 1\n",
    "c = 2\n",
    "\n",
    "lst = [a, c, b]\n",
    "lst.sort()\n",
    "\n",
    "print(lst)"
   ]
  },
  {
   "cell_type": "markdown",
   "metadata": {},
   "source": [
    "### Exercise 3"
   ]
  },
  {
   "cell_type": "code",
   "execution_count": 28,
   "metadata": {},
   "outputs": [
    {
     "name": "stdout",
     "output_type": "stream",
     "text": [
      "[' ', 'C', 'B', 'A']\n"
     ]
    }
   ],
   "source": [
    "a = \"A\"\n",
    "b = \"B\"\n",
    "c = \"C\"\n",
    "d = \" \"\n",
    "\n",
    "lst = [a, b, c, d]\n",
    "lst.reverse()\n",
    "\n",
    "print(lst)"
   ]
  },
  {
   "cell_type": "code",
   "execution_count": null,
   "metadata": {},
   "outputs": [],
   "source": []
  }
 ],
 "metadata": {
  "kernelspec": {
   "display_name": "Python 3",
   "language": "python",
   "name": "python3"
  },
  "language_info": {
   "codemirror_mode": {
    "name": "ipython",
    "version": 3
   },
   "file_extension": ".py",
   "mimetype": "text/x-python",
   "name": "python",
   "nbconvert_exporter": "python",
   "pygments_lexer": "ipython3",
   "version": "3.8.0"
  }
 },
 "nbformat": 4,
 "nbformat_minor": 2
}
