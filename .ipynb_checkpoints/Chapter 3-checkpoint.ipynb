{
 "cells": [
  {
   "cell_type": "markdown",
   "metadata": {},
   "source": [
    "# Chapter 3"
   ]
  },
  {
   "cell_type": "markdown",
   "metadata": {},
   "source": [
    "###  3.1.1.5 LAB: Questions and answers"
   ]
  },
  {
   "cell_type": "code",
   "execution_count": 5,
   "metadata": {},
   "outputs": [
    {
     "name": "stdout",
     "output_type": "stream",
     "text": [
      "Masukkan nilai a: 55\n",
      "False\n"
     ]
    }
   ],
   "source": [
    "a = int (input (\"Masukkan nilai a: \"))\n",
    "b = a >= 100\n",
    "\n",
    "print (b)"
   ]
  },
  {
   "cell_type": "markdown",
   "metadata": {},
   "source": [
    "### 3.1.1.11 LAB: Comparison operators and conditional execution\n",
    "\n",
    "#### <font color = green > Objectives </font>\n",
    "    - becoming familiar with the the input() function\n",
    "    - becoming familiar with comparison operators in Python\n",
    "    - becoming familiar with the concept of conditional execution\n"
   ]
  },
  {
   "cell_type": "code",
   "execution_count": 16,
   "metadata": {},
   "outputs": [
    {
     "name": "stdout",
     "output_type": "stream",
     "text": [
      "What is the best plant? Bonsai\n",
      "Spathiphyllum! Not, Bonsai!\n"
     ]
    }
   ],
   "source": [
    "bestPlant = input (\"What is the best plant? \")\n",
    "\n",
    "if bestPlant == \"Spathiphyllum\" :\n",
    "    print (\"Yes - Spathiphyllum is the best plant ever!\")\n",
    "\n",
    "elif bestPlant == \"spathiphyllum\" :\n",
    "    print (\"No, I want a big Spathiphyllum!\")\n",
    "    \n",
    "else :\n",
    "    print (\"Spathiphyllum! Not,\", bestPlant+ \"!\")"
   ]
  },
  {
   "cell_type": "markdown",
   "metadata": {},
   "source": [
    "###  3.1.1.12 LAB: Essentials of the if-else statement\n",
    "\n",
    "#### <font color = green > Objectives </font>\n",
    "\n",
    "    - using the if-else instruction to branch the control path\n",
    "    - building a complete program that solves simple real-life problems\n",
    "\n"
   ]
  },
  {
   "cell_type": "code",
   "execution_count": 29,
   "metadata": {},
   "outputs": [
    {
     "name": "stdout",
     "output_type": "stream",
     "text": [
      "Enter the annual income: -100\n",
      "The tax is: 0 thalers\n"
     ]
    }
   ],
   "source": [
    "income = float(input(\"Enter the annual income: \"))\n",
    "\n",
    "if income <= 85528 : # Put your code here.\n",
    "    tax = 0.18 * income - 556.2\n",
    "    if tax < 0:\n",
    "        tax = 0\n",
    "\n",
    "else :\n",
    "    tax = 14839.2 + 0.32 * (income - 85528)\n",
    "\n",
    "\n",
    "tax = round(tax, 0)\n",
    "print(\"The tax is:\", tax, \"thalers\")"
   ]
  },
  {
   "cell_type": "code",
   "execution_count": null,
   "metadata": {},
   "outputs": [],
   "source": []
  }
 ],
 "metadata": {
  "kernelspec": {
   "display_name": "Python 3",
   "language": "python",
   "name": "python3"
  },
  "language_info": {
   "codemirror_mode": {
    "name": "ipython",
    "version": 3
   },
   "file_extension": ".py",
   "mimetype": "text/x-python",
   "name": "python",
   "nbconvert_exporter": "python",
   "pygments_lexer": "ipython3",
   "version": "3.8.0"
  }
 },
 "nbformat": 4,
 "nbformat_minor": 2
}
