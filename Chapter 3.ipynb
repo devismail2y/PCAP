{
 "cells": [
  {
   "cell_type": "markdown",
   "metadata": {},
   "source": [
    "# Chapter 3"
   ]
  },
  {
   "cell_type": "markdown",
   "metadata": {},
   "source": [
    "###  3.1.1.5 LAB: Questions and answers"
   ]
  },
  {
   "cell_type": "code",
   "execution_count": 5,
   "metadata": {},
   "outputs": [
    {
     "name": "stdout",
     "output_type": "stream",
     "text": [
      "Masukkan nilai a: 55\n",
      "False\n"
     ]
    }
   ],
   "source": [
    "a = int (input (\"Masukkan nilai a: \"))\n",
    "b = a >= 100\n",
    "\n",
    "print (b)"
   ]
  },
  {
   "cell_type": "markdown",
   "metadata": {},
   "source": [
    "### 3.1.1.11 LAB: Comparison operators and conditional execution\n",
    "\n",
    "#### <font color = green > Objectives </font>\n",
    "    - becoming familiar with the the input() function\n",
    "    - becoming familiar with comparison operators in Python\n",
    "    - becoming familiar with the concept of conditional execution\n"
   ]
  },
  {
   "cell_type": "code",
   "execution_count": 16,
   "metadata": {},
   "outputs": [
    {
     "name": "stdout",
     "output_type": "stream",
     "text": [
      "What is the best plant? Bonsai\n",
      "Spathiphyllum! Not, Bonsai!\n"
     ]
    }
   ],
   "source": [
    "bestPlant = input (\"What is the best plant? \")\n",
    "\n",
    "if bestPlant == \"Spathiphyllum\" :\n",
    "    print (\"Yes - Spathiphyllum is the best plant ever!\")\n",
    "\n",
    "elif bestPlant == \"spathiphyllum\" :\n",
    "    print (\"No, I want a big Spathiphyllum!\")\n",
    "    \n",
    "else :\n",
    "    print (\"Spathiphyllum! Not,\", bestPlant+ \"!\")"
   ]
  },
  {
   "cell_type": "markdown",
   "metadata": {},
   "source": [
    "###  3.1.1.12 LAB: Essentials of the if-else statement\n",
    "\n",
    "#### <font color = green > Objectives </font>\n",
    "\n",
    "    - using the if-else instruction to branch the control path\n",
    "    - building a complete program that solves simple real-life problems\n",
    "\n"
   ]
  },
  {
   "cell_type": "code",
   "execution_count": 34,
   "metadata": {},
   "outputs": [
    {
     "name": "stdout",
     "output_type": "stream",
     "text": [
      "Enter the annual income: -100\n",
      "The tax is: 0 thalers\n"
     ]
    }
   ],
   "source": [
    "income = float(input(\"Enter the annual income: \"))\n",
    "\n",
    "if income <= 85528 : # Put your code here.\n",
    "    tax = 0.18 * income - 556.2\n",
    "    if tax < 0 :\n",
    "        tax = 0\n",
    "\n",
    "else :\n",
    "    tax = 14839.2 + 0.32 * (income - 85528)\n",
    "\n",
    "\n",
    "tax = round(tax, 0)\n",
    "print(\"The tax is:\", tax, \"thalers\")"
   ]
  },
  {
   "cell_type": "markdown",
   "metadata": {},
   "source": [
    "### 3.1.1.13 LAB: Essentials of the if-elif-else statement\n",
    "\n",
    "#### <font color = green > Objectives </font>\n",
    "Familiarize the student with:\n",
    "    - using the if-elif-else statement;\n",
    "    - finding the proper implementation of verbally defined rules;\n",
    "    - testing code using sample input and output.\n",
    "\n",
    "\n",
    "\n",
    "\n"
   ]
  },
  {
   "cell_type": "code",
   "execution_count": 33,
   "metadata": {},
   "outputs": [
    {
     "name": "stdout",
     "output_type": "stream",
     "text": [
      "Enter a year: 1999\n",
      "Common year\n"
     ]
    }
   ],
   "source": [
    "year = int(input(\"Enter a year: \"))\n",
    "\n",
    "if year < 1582 : # Put your code here.\n",
    "    print (\"Not within the Gregorian calendar period\")\n",
    "\n",
    "elif year % 4 != 0 :\n",
    "    print (\"Common year\")\n",
    "\n",
    "else :\n",
    "    print (\"Leap year\")"
   ]
  },
  {
   "cell_type": "markdown",
   "metadata": {},
   "source": [
    "### 3.1.2.3 LAB: Essentials of the while loop - Guess the secret number\n",
    "\n",
    "#### <font color = green > Objectives </font>\n",
    "Familiarize the student with:\n",
    "    - using the while loop;\n",
    "    - reflecting real-life situations in computer code.\n",
    "\n"
   ]
  },
  {
   "cell_type": "code",
   "execution_count": 39,
   "metadata": {},
   "outputs": [
    {
     "name": "stdout",
     "output_type": "stream",
     "text": [
      "\n",
      "+================================+\n",
      "| Welcome to my game, muggle!    |\n",
      "| Enter an integer number        |\n",
      "| and guess what number I've     |\n",
      "| picked for you.                |\n",
      "| So, what is the secret number? |\n",
      "+================================+\n",
      "\n",
      "Guess the secret number! 134\n",
      "Ha ha! You're stuck in my loop!\n",
      "Guess the secret number! 155\n",
      "Ha ha! You're stuck in my loop!\n",
      "Guess the secret number! 777\n",
      "Well done, muggle! You are free now.\n"
     ]
    }
   ],
   "source": [
    "secret_number = 777\n",
    "\n",
    "print(\n",
    "\"\"\"\n",
    "+================================+\n",
    "| Welcome to my game, muggle!    |\n",
    "| Enter an integer number        |\n",
    "| and guess what number I've     |\n",
    "| picked for you.                |\n",
    "| So, what is the secret number? |\n",
    "+================================+\n",
    "\"\"\")\n",
    "input_number = int(input(\"Guess the secret number! \"))\n",
    "\n",
    "while input_number != secret_number :\n",
    "    print (\"Ha ha! You're stuck in my loop!\")\n",
    "    input_number = int(input(\"Guess the secret number! \"))\n",
    "\n",
    "print (\"Well done, muggle! You are free now.\")\n",
    "    "
   ]
  },
  {
   "cell_type": "code",
   "execution_count": null,
   "metadata": {},
   "outputs": [],
   "source": []
  }
 ],
 "metadata": {
  "kernelspec": {
   "display_name": "Python 3",
   "language": "python",
   "name": "python3"
  },
  "language_info": {
   "codemirror_mode": {
    "name": "ipython",
    "version": 3
   },
   "file_extension": ".py",
   "mimetype": "text/x-python",
   "name": "python",
   "nbconvert_exporter": "python",
   "pygments_lexer": "ipython3",
   "version": "3.8.0"
  }
 },
 "nbformat": 4,
 "nbformat_minor": 2
}
