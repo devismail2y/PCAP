{
 "cells": [
  {
   "cell_type": "markdown",
   "metadata": {},
   "source": [
    "# Chapter 4\n",
    "\n",
    "## Bagian 1\n",
    "\n",
    "### 1. Apa Hasil Outputnya? "
   ]
  },
  {
   "cell_type": "code",
   "execution_count": 1,
   "metadata": {},
   "outputs": [
    {
     "ename": "TypeError",
     "evalue": "introduction() got an unexpected keyword argument 'surname'",
     "output_type": "error",
     "traceback": [
      "\u001b[0;31m---------------------------------------------------------------------------\u001b[0m",
      "\u001b[0;31mTypeError\u001b[0m                                 Traceback (most recent call last)",
      "\u001b[0;32m<ipython-input-1-466f6768fe73>\u001b[0m in \u001b[0;36m<module>\u001b[0;34m\u001b[0m\n\u001b[1;32m      2\u001b[0m     \u001b[0mprint\u001b[0m\u001b[0;34m(\u001b[0m\u001b[0;34m\"Hello, my name is\"\u001b[0m\u001b[0;34m,\u001b[0m \u001b[0mfirstName\u001b[0m\u001b[0;34m,\u001b[0m \u001b[0mlastName\u001b[0m\u001b[0;34m)\u001b[0m\u001b[0;34m\u001b[0m\u001b[0;34m\u001b[0m\u001b[0m\n\u001b[1;32m      3\u001b[0m \u001b[0;34m\u001b[0m\u001b[0m\n\u001b[0;32m----> 4\u001b[0;31m \u001b[0mintroduction\u001b[0m\u001b[0;34m(\u001b[0m\u001b[0msurname\u001b[0m\u001b[0;34m=\u001b[0m\u001b[0;34m\"Skywalker\"\u001b[0m\u001b[0;34m,\u001b[0m \u001b[0mfirstName\u001b[0m\u001b[0;34m=\u001b[0m\u001b[0;34m\"Luke\"\u001b[0m\u001b[0;34m)\u001b[0m\u001b[0;34m\u001b[0m\u001b[0;34m\u001b[0m\u001b[0m\n\u001b[0m",
      "\u001b[0;31mTypeError\u001b[0m: introduction() got an unexpected keyword argument 'surname'"
     ]
    }
   ],
   "source": [
    "def introduction(firstName, lastName):\n",
    "    print(\"Hello, my name is\", firstName, lastName)\n",
    "\n",
    "introduction(surname=\"Skywalker\", firstName=\"Luke\")"
   ]
  },
  {
   "cell_type": "markdown",
   "metadata": {},
   "source": [
    "### 2. Apa Hasil Outputnya?"
   ]
  },
  {
   "cell_type": "code",
   "execution_count": 3,
   "metadata": {},
   "outputs": [
    {
     "name": "stdout",
     "output_type": "stream",
     "text": [
      "1 + 2 - 3 = 0\n",
      "2 + 5 - 3 = 4\n",
      "3 + 1 - 2 = 2\n"
     ]
    }
   ],
   "source": [
    "def hitung(a, b, c):\n",
    "    print(a, \"+\", b, \"-\", c, \"=\", a + b - c)\n",
    "\n",
    "hitung(1,2,3)\n",
    "hitung(c=3, a=2, b=5)\n",
    "hitung(3, c=2, b=1)"
   ]
  },
  {
   "cell_type": "code",
   "execution_count": 4,
   "metadata": {},
   "outputs": [
    {
     "ename": "SyntaxError",
     "evalue": "positional argument follows keyword argument (<ipython-input-4-930e2c0b00b8>, line 4)",
     "output_type": "error",
     "traceback": [
      "\u001b[0;36m  File \u001b[0;32m\"<ipython-input-4-930e2c0b00b8>\"\u001b[0;36m, line \u001b[0;32m4\u001b[0m\n\u001b[0;31m    hitung(c=5, 10, 11)\u001b[0m\n\u001b[0m                ^\u001b[0m\n\u001b[0;31mSyntaxError\u001b[0m\u001b[0;31m:\u001b[0m positional argument follows keyword argument\n"
     ]
    }
   ],
   "source": [
    "def hitung(a, b, c):\n",
    "    print(a, \"+\", b, \"-\", c, \"=\", a + b - c)\n",
    "\n",
    "hitung(c=5, 10, 11)"
   ]
  },
  {
   "cell_type": "markdown",
   "metadata": {},
   "source": [
    "## Bagian 2\n",
    "\n",
    "### 1. Apa Hasil Outputnya?​"
   ]
  },
  {
   "cell_type": "code",
   "execution_count": 1,
   "metadata": {},
   "outputs": [
    {
     "name": "stdout",
     "output_type": "stream",
     "text": [
      "My name is Bond. James Bond.\n"
     ]
    }
   ],
   "source": [
    "def intro(a=\"James Bond\", b=\"Bond\"):\n",
    "    print(\"My name is\", b + \".\", a + \".\")\n",
    "\n",
    "intro()"
   ]
  },
  {
   "cell_type": "markdown",
   "metadata": {},
   "source": [
    "### 2. Apa Hasil Outputnya"
   ]
  },
  {
   "cell_type": "code",
   "execution_count": 2,
   "metadata": {},
   "outputs": [
    {
     "name": "stdout",
     "output_type": "stream",
     "text": [
      "My name is Sean Connery. James Bond.\n"
     ]
    }
   ],
   "source": [
    "def intro(a=\"James Bond\", b=\"Bond\"):\n",
    "    print(\"My name is\", b + \".\", a + \".\")\n",
    "\n",
    "intro(b=\"Sean Connery\")"
   ]
  },
  {
   "cell_type": "markdown",
   "metadata": {},
   "source": [
    "### 3. Apa Hasil Outputnya"
   ]
  },
  {
   "cell_type": "code",
   "execution_count": 3,
   "metadata": {},
   "outputs": [
    {
     "name": "stdout",
     "output_type": "stream",
     "text": [
      "My name is Bond. Susan.\n"
     ]
    }
   ],
   "source": [
    "def intro(a, b=\"Bond\"):\n",
    "    print(\"My name is\", b + \".\", a + \".\")\n",
    "\n",
    "intro(\"Susan\")"
   ]
  },
  {
   "cell_type": "markdown",
   "metadata": {},
   "source": [
    "### 4. Apa Hasil Outputnya"
   ]
  },
  {
   "cell_type": "code",
   "execution_count": 4,
   "metadata": {},
   "outputs": [
    {
     "ename": "SyntaxError",
     "evalue": "non-default argument follows default argument (<ipython-input-4-7ef5b520567e>, line 1)",
     "output_type": "error",
     "traceback": [
      "\u001b[0;36m  File \u001b[0;32m\"<ipython-input-4-7ef5b520567e>\"\u001b[0;36m, line \u001b[0;32m1\u001b[0m\n\u001b[0;31m    def sum(a, b=2, c):\u001b[0m\n\u001b[0m            ^\u001b[0m\n\u001b[0;31mSyntaxError\u001b[0m\u001b[0;31m:\u001b[0m non-default argument follows default argument\n"
     ]
    }
   ],
   "source": [
    "def sum(a, b=2, c):\n",
    "    print(a + b + c)\n",
    "\n",
    "sum(a=1, c=3)"
   ]
  },
  {
   "cell_type": "markdown",
   "metadata": {},
   "source": [
    "## Bagian 3"
   ]
  },
  {
   "cell_type": "markdown",
   "metadata": {},
   "source": [
    "### Lab 1"
   ]
  },
  {
   "cell_type": "code",
   "execution_count": 22,
   "metadata": {},
   "outputs": [
    {
     "name": "stdout",
     "output_type": "stream",
     "text": [
      "1900 ->OK\n",
      "2000 ->OK\n",
      "2016 ->OK\n",
      "1987 ->OK\n",
      "2020 ->OK\n"
     ]
    }
   ],
   "source": [
    "def isYearLeap(year):\n",
    "    if year % 400 == 0:\n",
    "        return True\n",
    "    elif year % 100 == 0:\n",
    "        return False\n",
    "    elif year % 4 == 0:\n",
    "        return True\n",
    "    return False\n",
    "\n",
    "testData = [1900, 2000, 2016, 1987, 2020]\n",
    "testResults = [False, True, True, False, True]\n",
    "for i in range(len(testData)):\n",
    "    yr = testData[i]\n",
    "    print(yr,\"->\",end=\"\")\n",
    "    result = isYearLeap(yr)\n",
    "    if result == testResults[i]:\n",
    "        print(\"OK\")\n",
    "    else:\n",
    "        print(\"Failed\")"
   ]
  },
  {
   "cell_type": "markdown",
   "metadata": {},
   "source": [
    "### Lab 2"
   ]
  },
  {
   "cell_type": "code",
   "execution_count": 39,
   "metadata": {},
   "outputs": [
    {
     "name": "stdout",
     "output_type": "stream",
     "text": [
      "1900 2 ->OK\n",
      "2000 2 ->OK\n",
      "2016 1 ->OK\n",
      "1987 11 ->OK\n"
     ]
    }
   ],
   "source": [
    "def isYearLeap(year):\n",
    "    if year % 400 == 0:\n",
    "        return True\n",
    "    elif year % 100 == 0:\n",
    "        return False\n",
    "    elif year % 4 == 0:\n",
    "        return True\n",
    "    return False\n",
    "\n",
    "\n",
    "def daysInMonth(year,month):\n",
    "    thirty = [4,6,9,11]\n",
    "    thirtyone = [1,3,5,7,8,10,12]\n",
    "    if month in thirty:\n",
    "        return 30\n",
    "    elif month in thirtyone:\n",
    "        return 31\n",
    "    elif isYearLeap(year) is True:\n",
    "        return 29\n",
    "    else:\n",
    "        return 28\n",
    "\n",
    "\n",
    "testyears = [1900, 2000, 2016, 1987]\n",
    "testmonths = [ 2, 2, 1, 11]\n",
    "testresults = [28, 29, 31, 30]\n",
    "for i in range(len(testyears)):\n",
    "    yr = testyears[i]\n",
    "    mo = testmonths[i]\n",
    "    print(yr,mo,\"->\",end=\"\")\n",
    "    result = daysInMonth(yr,mo)\n",
    "    if result == testresults[i]:\n",
    "        print(\"OK\")\n",
    "    else:\n",
    "        print(\"Failed\")"
   ]
  },
  {
   "cell_type": "markdown",
   "metadata": {},
   "source": [
    "### Lab 3"
   ]
  },
  {
   "cell_type": "code",
   "execution_count": 45,
   "metadata": {},
   "outputs": [
    {
     "name": "stdout",
     "output_type": "stream",
     "text": [
      "(2000, 12, 31)\n",
      "None\n",
      "None\n",
      "(2000, 2, 29)\n"
     ]
    }
   ],
   "source": [
    "def isYearLeap(year):\n",
    "    if year % 400 == 0:\n",
    "        return True\n",
    "    elif year % 100 == 0:\n",
    "        return False\n",
    "    elif year % 4 == 0:\n",
    "        return True\n",
    "    return False\n",
    "\n",
    "\n",
    "def daysInMonth(year,month):\n",
    "    thirty = [4,6,9,11]\n",
    "    thirtyone = [1,3,5,7,8,10,12]\n",
    "    if month in thirty:\n",
    "        return 30\n",
    "    elif month in thirtyone:\n",
    "        return 31\n",
    "    elif isYearLeap(year) is True:\n",
    "        return 29\n",
    "    else:\n",
    "        return 28\n",
    "    \n",
    "def dayOfYear(year, month, day):\n",
    "    if day >= 0 and day <= daysInMonth(year,month) :\n",
    "        return year, month, day\n",
    "    else :\n",
    "        return None\n",
    "\n",
    "print(dayOfYear(2000, 12, 31))\n",
    "print(dayOfYear(2000, 11, 31))\n",
    "print(dayOfYear(1900, 2, 29))\n",
    "print(dayOfYear(2000, 2, 29))"
   ]
  },
  {
   "cell_type": "markdown",
   "metadata": {},
   "source": [
    "### Lab 4"
   ]
  },
  {
   "cell_type": "code",
   "execution_count": 4,
   "metadata": {},
   "outputs": [
    {
     "name": "stdout",
     "output_type": "stream",
     "text": [
      "2 3 5 7 11 13 17 19 \n"
     ]
    }
   ],
   "source": [
    "def isPrime(num):\n",
    "    if num == 2 :\n",
    "        return True\n",
    "    n = 2\n",
    "    while True :\n",
    "        if n == num - 1 :\n",
    "            break\n",
    "        if num % n == 0 :\n",
    "            return False\n",
    "        n += 1\n",
    "    return True\n",
    "\n",
    "for i in range(1, 20):\n",
    "    if isPrime(i + 1):\n",
    "            print(i + 1, end=\" \")\n",
    "print()"
   ]
  },
  {
   "cell_type": "markdown",
   "metadata": {},
   "source": [
    "### Lab 5"
   ]
  },
  {
   "cell_type": "code",
   "execution_count": 5,
   "metadata": {},
   "outputs": [
    {
     "name": "stdout",
     "output_type": "stream",
     "text": [
      "60.31143162393162\n",
      "31.36194444444444\n",
      "23.52145833333333\n",
      "3.9007393587617467\n",
      "7.490910297239916\n",
      "10.009131205673757\n"
     ]
    }
   ],
   "source": [
    "def l100kmtompg(liters):\n",
    "    mpg = (100 / 1.609344) / (liters / 3.785411784)\n",
    "    return mpg\n",
    "    \n",
    "def mpgtol100km(miles):\n",
    "    l100km = (1 * 3.785411784) / (miles * 1.609344 / 100)\n",
    "    return l100km\n",
    "\n",
    "print(l100kmtompg(3.9))\n",
    "print(l100kmtompg(7.5))\n",
    "print(l100kmtompg(10.))\n",
    "print(mpgtol100km(60.3))\n",
    "print(mpgtol100km(31.4))\n",
    "print(mpgtol100km(23.5))"
   ]
  },
  {
   "cell_type": "markdown",
   "metadata": {},
   "source": [
    "### Ayo Coding 1"
   ]
  },
  {
   "cell_type": "code",
   "execution_count": 2,
   "metadata": {},
   "outputs": [
    {
     "name": "stdout",
     "output_type": "stream",
     "text": [
      "4\n"
     ]
    }
   ],
   "source": [
    "tup = 1, 2, 3, 2, 4, 5, 6, 2, 7, 2, 8, 9\n",
    "duplicates = tup.count(2)\n",
    "\n",
    "print(duplicates)    # outputs: 4"
   ]
  },
  {
   "cell_type": "markdown",
   "metadata": {},
   "source": [
    "### Ayo Coding 2"
   ]
  },
  {
   "cell_type": "code",
   "execution_count": 4,
   "metadata": {},
   "outputs": [
    {
     "name": "stdout",
     "output_type": "stream",
     "text": [
      "{'Adam Smith': 'A', 'Judy Paxton': 'B+', 'Mary Louis': 'A', 'Patrick White': 'C'}\n"
     ]
    }
   ],
   "source": [
    "d1 = {'Adam Smith':'A', 'Judy Paxton':'B+'}\n",
    "d2 = {'Mary Louis':'A', 'Patrick White':'C'}\n",
    "d3 = {}\n",
    "\n",
    "for item in (d1, d2):\n",
    "    d3.update(item)\n",
    "print(d3)"
   ]
  },
  {
   "cell_type": "markdown",
   "metadata": {},
   "source": [
    "### Ayo Coding 3"
   ]
  },
  {
   "cell_type": "code",
   "execution_count": 8,
   "metadata": {},
   "outputs": [
    {
     "name": "stdout",
     "output_type": "stream",
     "text": [
      "('car', 'Ford', 'flower', 'Tulip')\n",
      "<class 'tuple'>\n"
     ]
    }
   ],
   "source": [
    "l = [\"car\", \"Ford\", \"flower\", \"Tulip\"]\n",
    "\n",
    "t = tuple(l)\n",
    "print(t)\n",
    "print (type(t))\n"
   ]
  },
  {
   "cell_type": "markdown",
   "metadata": {},
   "source": [
    "### Ayo Coding 4"
   ]
  },
  {
   "cell_type": "code",
   "execution_count": 20,
   "metadata": {},
   "outputs": [
    {
     "name": "stdout",
     "output_type": "stream",
     "text": [
      "{'green': '#008000', 'blue': '#0000FF'}\n"
     ]
    }
   ],
   "source": [
    "colors = ((\"green\", \"#008000\"), (\"blue\", \"#0000FF\"))\n",
    "colors  = list(colors)  \n",
    "colDict = {}\n",
    "\n",
    "for elem in colors :\n",
    "    colDict[elem[0]] = elem[1]\n",
    "        \n",
    "print(colDict)"
   ]
  },
  {
   "cell_type": "code",
   "execution_count": 28,
   "metadata": {},
   "outputs": [
    {
     "name": "stdout",
     "output_type": "stream",
     "text": [
      "+-------+-------+-------+\n",
      "|       |       |       |\n",
      "|   1   |   2   |   3   |\n",
      "|       |       |       |\n",
      "+-------+-------+-------+\n",
      "|       |       |       |\n",
      "|   4   |   5   |   6   |\n",
      "|       |       |       |\n",
      "+-------+-------+-------+\n",
      "|       |       |       |\n",
      "|   7   |   8   |   9   |\n",
      "|       |       |       |\n",
      "+-------+-------+-------+\n"
     ]
    }
   ],
   "source": [
    "board = list(range(1, 10))\n",
    "mult = 0\n",
    "for i in range (13):\n",
    "    if i % 4 == 0 :\n",
    "        print (\"+-------+-------+-------+\")\n",
    "    if i % 4 == 1 or i % 4 == 3 :\n",
    "        print (\"|       |       |       |\")\n",
    "    if i % 4 == 2 :\n",
    "        print (\"|  \",board[mult*3],\"  |  \", board[mult*3+1],\"  |  \",board[mult*3+2], \"  |\")\n",
    "        mult += 1\n"
   ]
  },
  {
   "cell_type": "code",
   "execution_count": 45,
   "metadata": {},
   "outputs": [
    {
     "name": "stdout",
     "output_type": "stream",
     "text": [
      "Nomor berapa? (1-9): 9\n",
      "[1, 2, 3, 4, 5, 6, 7, 8, 'O']\n"
     ]
    }
   ],
   "source": [
    "board = list(range(1, 10))\n",
    "#\n",
    "# the function accepts the board current status, asks the user about their move, \n",
    "# checks the input and updates the board according to the user's decision\n",
    "#\n",
    "\n",
    "move = int(input(\"Nomor berapa? (1-9): \"))\n",
    "\n",
    "if board[move-1] == \"O\" or board[move-1] == \"X\" :\n",
    "    print (move ,\"Coba Lagi\")\n",
    "else : \n",
    "    board [move-1] = \"O\"\n",
    "\n",
    "print (board)"
   ]
  },
  {
   "cell_type": "code",
   "execution_count": 59,
   "metadata": {},
   "outputs": [
    {
     "name": "stdout",
     "output_type": "stream",
     "text": [
      "[(1, 2, 3), (4, 5, 6), (7, 8, 'O')]\n"
     ]
    }
   ],
   "source": [
    "board = [1, 2, 3, 4, 5, 6, 7, 8, 'O']\n",
    "checkboard = []\n",
    "i = 0\n",
    "\n",
    "while i < len(board) :\n",
    "    checkboard.append(tuple(board[i:i+3]))\n",
    "    i+=3\n",
    "\n",
    "print (checkboard)"
   ]
  },
  {
   "cell_type": "code",
   "execution_count": 63,
   "metadata": {},
   "outputs": [
    {
     "name": "stdout",
     "output_type": "stream",
     "text": [
      "[(0, 1, 2), (3, 4, 5), (6, 7, 8)]\n"
     ]
    }
   ],
   "source": [
    "data_list = [0,1,2,3,4,5,6,7,8]\n",
    "\n",
    "new_list = [tuple(data_list[x:x+3]) for x in range(0, len(data_list), 3)]\n",
    "\n",
    "print (new_list)"
   ]
  },
  {
   "cell_type": "code",
   "execution_count": 10,
   "metadata": {},
   "outputs": [
    {
     "name": "stdout",
     "output_type": "stream",
     "text": [
      "[(1, 2, 3), (4, 5, 6), (7, 8, 9)]\n"
     ]
    }
   ],
   "source": [
    "board = list(range(1, 10))\n",
    "board = [tuple(board[x:x+3]) for x in range(0, len(board), 3)]\n",
    "\n",
    "print (board)"
   ]
  },
  {
   "cell_type": "code",
   "execution_count": 8,
   "metadata": {},
   "outputs": [
    {
     "name": "stdout",
     "output_type": "stream",
     "text": [
      "0\n",
      "2\n",
      "haha\n"
     ]
    }
   ],
   "source": [
    "for i in range (4) :\n",
    "    if i % 2 == 0 :\n",
    "        print (i)\n",
    "\n",
    "else :\n",
    "    print (\"haha\")"
   ]
  },
  {
   "cell_type": "code",
   "execution_count": 12,
   "metadata": {},
   "outputs": [
    {
     "name": "stdout",
     "output_type": "stream",
     "text": [
      "correct\n"
     ]
    }
   ],
   "source": [
    "import secrets\n",
    "\n",
    "foo = ['battery', 'correct', 'horse', 'staple']\n",
    "print(secrets.choice(foo))"
   ]
  },
  {
   "cell_type": "code",
   "execution_count": 22,
   "metadata": {},
   "outputs": [
    {
     "ename": "SyntaxError",
     "evalue": "invalid syntax (<ipython-input-22-6bc41365ea14>, line 2)",
     "output_type": "error",
     "traceback": [
      "\u001b[0;36m  File \u001b[0;32m\"<ipython-input-22-6bc41365ea14>\"\u001b[0;36m, line \u001b[0;32m2\u001b[0m\n\u001b[0;31m    free = [element for  type(element)==int]\u001b[0m\n\u001b[0m                                      ^\u001b[0m\n\u001b[0;31mSyntaxError\u001b[0m\u001b[0;31m:\u001b[0m invalid syntax\n"
     ]
    }
   ],
   "source": [
    "board = [(0, 1, 2), (3, 4, 5), (6, 7, 8)]\n",
    "free = [element for type(element)==int]\n",
    "print(free)"
   ]
  },
  {
   "cell_type": "code",
   "execution_count": 19,
   "metadata": {},
   "outputs": [
    {
     "name": "stdout",
     "output_type": "stream",
     "text": [
      "<class 'int'>\n",
      "Halo\n"
     ]
    }
   ],
   "source": [
    "x = 1\n",
    "print (type(x))\n",
    "\n",
    "if type(x) == int :\n",
    "    print (\"Halo\")"
   ]
  },
  {
   "cell_type": "code",
   "execution_count": null,
   "metadata": {},
   "outputs": [],
   "source": []
  }
 ],
 "metadata": {
  "kernelspec": {
   "display_name": "Python 3",
   "language": "python",
   "name": "python3"
  },
  "language_info": {
   "codemirror_mode": {
    "name": "ipython",
    "version": 3
   },
   "file_extension": ".py",
   "mimetype": "text/x-python",
   "name": "python",
   "nbconvert_exporter": "python",
   "pygments_lexer": "ipython3",
   "version": "3.8.1"
  }
 },
 "nbformat": 4,
 "nbformat_minor": 2
}
